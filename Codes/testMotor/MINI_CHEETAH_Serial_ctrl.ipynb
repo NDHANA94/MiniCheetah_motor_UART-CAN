{
 "cells": [
  {
   "cell_type": "code",
   "execution_count": 80,
   "metadata": {},
   "outputs": [
    {
     "name": "stdout",
     "output_type": "stream",
     "text": [
      "connceted to motor module controller\n"
     ]
    }
   ],
   "source": [
    "import serial\n",
    "from struct import *\n",
    "import time\n",
    "\n",
    "class MotorModuleController():\n",
    "    def __init__(self, port):\n",
    "        try:\n",
    "            self.ser = serial.Serial(port, timeout= 0.05)\n",
    "            self.ser.baudrate = 115200\n",
    "            self.rx_data = [0, 0, 0, 0, 0, 0]\n",
    "            self.rx_val = [0, 0, 0, 0]\n",
    "            self.tx_data = [0, 0, 0, 0, 0, 0, 0, 0]\n",
    "            print('connceted to motor module controller')\n",
    "        except:\n",
    "            print('failed to connect to motor module controller')\n",
    "            pass\n",
    "\n",
    "        self.P_MAX = 12.5\n",
    "        self.P_MIN = -12.5\n",
    "        self.V_MAX = 65.0\n",
    "        self.V_MIN = -65.0\n",
    "        self.KP_MAX = 500\n",
    "        self.KP_MIN = 0\n",
    "        self.KD_MAX = 5\n",
    "        self.KD_MIN = 0\n",
    "        self.I_MAX = 40\n",
    "\n",
    "    def send_data(self):\n",
    "        pass\n",
    "\n",
    "\n",
    "    def pack_cmd(self, id, p_des, v_des, kp, kd, i_ff):\n",
    "        p_des = self.float2uint(p_des, self.P_MIN, self.P_MAX, 16)\n",
    "        v_des = self.float2uint(v_des, self.V_MIN, self.V_MAX, 12)\n",
    "        kp = self.float2uint(kp, self.KP_MIN, self.KP_MAX, 12)\n",
    "        kd = self.float2uint(kd, self.KD_MIN, self.KD_MAX, 12)\n",
    "        i_ff = self.float2uint(i_ff, -self.I_MAX, self.I_MAX, 12)\n",
    "\n",
    "        d1 = p_des >> 8\n",
    "        d2 = p_des&0xFF\n",
    "        d3 = v_des>>4\n",
    "        d4 = ((v_des&0xF)<<4) | (kp>>8)\n",
    "        d5 = kp&0xFF\n",
    "        d6 = kd>>4\n",
    "        d7 = ((kd&0xF)<<4) | i_ff>>8\n",
    "        d8 = i_ff&0xFF\n",
    "        \n",
    "        id = int(id)\n",
    "        b = bytes(bytearray([id, d1, d2, d3, d4, d5, d6, d7, d8]))\n",
    "        return b \n",
    "\n",
    "    def send_cmd(self, cmd):\n",
    "        \"\"\"\n",
    "        sends data \n",
    "        \"\"\"\n",
    "        self.ser.write(cmd)\n",
    "        print('cmd is sent: ', cmd)\n",
    "\n",
    "    def get_rx(self):\n",
    "        b_rx = self.ser.read(13)\n",
    "        self.rx_val[0] = b_rx[0]                   # id\n",
    "        self.rx_val[1] = unpack(\"f\", b_rx[1:5])    # position\n",
    "        self.rx_val[2] = unpack(\"f\", b_rx[5:9])    # velocity\n",
    "        self.rx_val[3] = unpack(\"f\", b_rx[9:13])   # current\n",
    "        print('recieved: ', self.rx_val)\n",
    "        return self.rx_val\n",
    "\n",
    "    def float2uint(self, x, x_min, x_max, bits):\n",
    "        span = x_max - x_min\n",
    "        offset = x_min\n",
    "        return int((x-offset)*(float((1<<bits)-1))/span)\n",
    "\n",
    "    def uint2float(self, x, x_min, x_max, bits):\n",
    "        span = x_max - x_min\n",
    "        offset = x_min\n",
    "        return int(x*span/((1<<bits)-1) + offset)\n",
    "\n",
    "    def limit_val(self, x, x_min, x_max):\n",
    "        if x < x_min:\n",
    "            x = x_min\n",
    "        if x > x_max:\n",
    "            x = x_max\n",
    "        return x\n",
    "\n",
    "\n",
    "mmc = MotorModuleController('/dev/ttyUSB1')\n",
    "\n",
    "def print_dec2bin(dec):\n",
    "    print(\"{0:b}\".format(dec))"
   ]
  },
  {
   "cell_type": "code",
   "execution_count": 81,
   "metadata": {},
   "outputs": [],
   "source": [
    "id = 1\n",
    "p_des = 10\n",
    "v_des = 20\n",
    "kp = 10\n",
    "kd = 0\n",
    "t_ff = 0\n",
    "\n",
    "data_pack = mmc.pack_cmd(id, p_des, v_des, kp, kd, t_ff)\n",
    "\n",
    "# print_dec2bin(p_des)\n"
   ]
  },
  {
   "cell_type": "code",
   "execution_count": 82,
   "metadata": {},
   "outputs": [
    {
     "name": "stdout",
     "output_type": "stream",
     "text": [
      "11100110\n",
      "1100101\n",
      "1110011001100101\n"
     ]
    },
    {
     "ename": "TypeError",
     "evalue": "int() can't convert non-string with explicit base",
     "output_type": "error",
     "traceback": [
      "\u001b[0;31m---------------------------------------------------------------------------\u001b[0m",
      "\u001b[0;31mTypeError\u001b[0m                                 Traceback (most recent call last)",
      "\u001b[1;32m/home/nd94/Desktop/Projects/MiniCheetah-Actuator/MINI_CHEETAH_Serial_ctrl.ipynb Cell 3\u001b[0m in \u001b[0;36m<module>\u001b[0;34m\u001b[0m\n\u001b[1;32m      <a href='vscode-notebook-cell:/home/nd94/Desktop/Projects/MiniCheetah-Actuator/MINI_CHEETAH_Serial_ctrl.ipynb#X21sZmlsZQ%3D%3D?line=4'>5</a>\u001b[0m P \u001b[39m=\u001b[39m data_pack[\u001b[39m1\u001b[39m]\u001b[39m<<\u001b[39m\u001b[39m8\u001b[39m \u001b[39m|\u001b[39m data_pack[\u001b[39m2\u001b[39m]\n\u001b[1;32m      <a href='vscode-notebook-cell:/home/nd94/Desktop/Projects/MiniCheetah-Actuator/MINI_CHEETAH_Serial_ctrl.ipynb#X21sZmlsZQ%3D%3D?line=6'>7</a>\u001b[0m print_dec2bin(P)\n\u001b[0;32m----> <a href='vscode-notebook-cell:/home/nd94/Desktop/Projects/MiniCheetah-Actuator/MINI_CHEETAH_Serial_ctrl.ipynb#X21sZmlsZQ%3D%3D?line=7'>8</a>\u001b[0m mmc\u001b[39m.\u001b[39;49muint2float(P, mmc\u001b[39m.\u001b[39;49mP_MIN, mmc\u001b[39m.\u001b[39;49mP_MAX, \u001b[39m16\u001b[39;49m)\n",
      "\u001b[1;32m/home/nd94/Desktop/Projects/MiniCheetah-Actuator/MINI_CHEETAH_Serial_ctrl.ipynb Cell 3\u001b[0m in \u001b[0;36mMotorModuleController.uint2float\u001b[0;34m(self, x, x_min, x_max, bits)\u001b[0m\n\u001b[1;32m     <a href='vscode-notebook-cell:/home/nd94/Desktop/Projects/MiniCheetah-Actuator/MINI_CHEETAH_Serial_ctrl.ipynb#X21sZmlsZQ%3D%3D?line=73'>74</a>\u001b[0m span \u001b[39m=\u001b[39m x_max \u001b[39m-\u001b[39m x_min\n\u001b[1;32m     <a href='vscode-notebook-cell:/home/nd94/Desktop/Projects/MiniCheetah-Actuator/MINI_CHEETAH_Serial_ctrl.ipynb#X21sZmlsZQ%3D%3D?line=74'>75</a>\u001b[0m offset \u001b[39m=\u001b[39m x_min\n\u001b[0;32m---> <a href='vscode-notebook-cell:/home/nd94/Desktop/Projects/MiniCheetah-Actuator/MINI_CHEETAH_Serial_ctrl.ipynb#X21sZmlsZQ%3D%3D?line=75'>76</a>\u001b[0m \u001b[39mreturn\u001b[39;00m \u001b[39mint\u001b[39;49m(x\u001b[39m*\u001b[39;49mspan\u001b[39m/\u001b[39;49m((\u001b[39m1\u001b[39;49m\u001b[39m<<\u001b[39;49mbits)\u001b[39m-\u001b[39;49m\u001b[39m1\u001b[39;49m) \u001b[39m+\u001b[39;49m offset, base\u001b[39m=\u001b[39;49m\u001b[39m2\u001b[39;49m)\n",
      "\u001b[0;31mTypeError\u001b[0m: int() can't convert non-string with explicit base"
     ]
    }
   ],
   "source": [
    "#decode p_des\n",
    "print_dec2bin(data_pack[1])\n",
    "print_dec2bin(data_pack[2])\n",
    "\n",
    "P = data_pack[1]<<8 | data_pack[2]\n",
    "\n",
    "print_dec2bin(P)\n",
    "mmc.uint2float(P, mmc.P_MIN, mmc.P_MAX, 16) "
   ]
  },
  {
   "cell_type": "code",
   "execution_count": 76,
   "metadata": {},
   "outputs": [
    {
     "name": "stdout",
     "output_type": "stream",
     "text": [
      "58981\n",
      "10 :  9\n"
     ]
    }
   ],
   "source": [
    "fltP = mmc.float2uint(p_des, mmc.P_MIN, mmc.P_MAX, 16)\n",
    "print(fltP)\n",
    "uintP = mmc.uint2float(fltP,  mmc.P_MIN, mmc.P_MAX, 16)\n",
    "print(p_des, ': ',uintP)"
   ]
  },
  {
   "cell_type": "code",
   "execution_count": 66,
   "metadata": {},
   "outputs": [
    {
     "name": "stdout",
     "output_type": "stream",
     "text": [
      "10100111\n",
      "1010000\n",
      "1010011100000101\n"
     ]
    },
    {
     "data": {
      "text/plain": [
       "19.815899900816362"
      ]
     },
     "execution_count": 66,
     "metadata": {},
     "output_type": "execute_result"
    }
   ],
   "source": [
    "#decode v_des\n",
    "print_dec2bin(data_pack[3])\n",
    "print_dec2bin(data_pack[4])\n",
    "\n",
    "V = data_pack[3]<<8 | data_pack[4]>>4\n",
    "\n",
    "print_dec2bin(V)\n",
    "mmc.uint2float(V, mmc.V_MIN, mmc.V_MAX, 16) "
   ]
  },
  {
   "cell_type": "code",
   "execution_count": 67,
   "metadata": {},
   "outputs": [
    {
     "data": {
      "text/plain": [
       "61865"
      ]
     },
     "execution_count": 67,
     "metadata": {},
     "output_type": "execute_result"
    }
   ],
   "source": []
  },
  {
   "cell_type": "code",
   "execution_count": 68,
   "metadata": {},
   "outputs": [
    {
     "data": {
      "text/plain": [
       "11.099984740978105"
      ]
     },
     "execution_count": 68,
     "metadata": {},
     "output_type": "execute_result"
    }
   ],
   "source": []
  },
  {
   "cell_type": "code",
   "execution_count": 69,
   "metadata": {},
   "outputs": [
    {
     "data": {
      "text/plain": [
       "61865"
      ]
     },
     "execution_count": 69,
     "metadata": {},
     "output_type": "execute_result"
    }
   ],
   "source": [
    "fltP = mmc.float2uint(uintP, mmc.P_MIN, mmc.P_MAX, 16)\n",
    "fltP"
   ]
  },
  {
   "cell_type": "code",
   "execution_count": 120,
   "metadata": {},
   "outputs": [
    {
     "data": {
      "text/plain": [
       "6200"
      ]
     },
     "execution_count": 120,
     "metadata": {},
     "output_type": "execute_result"
    }
   ],
   "source": [
    "mmc.float2uint(1.23, 0, 13, 16)"
   ]
  },
  {
   "cell_type": "code",
   "execution_count": 127,
   "metadata": {},
   "outputs": [
    {
     "data": {
      "text/plain": [
       "b'\\x01\\x7f\\xff\\x7f\\xf0Q\\x00\\x07\\xff'"
      ]
     },
     "execution_count": 127,
     "metadata": {},
     "output_type": "execute_result"
    }
   ],
   "source": [
    "id = 1\n",
    "p_des = 10\n",
    "v_des = 20\n",
    "kp = 10\n",
    "kd = 0\n",
    "i_ff = 0\n",
    "\n",
    "p_des = mmc.float2uint(p_des, mmc.P_MIN, mmc.P_MAX, 16)\n",
    "v_des = mmc.float2uint(v_des, mmc.V_MIN, mmc.V_MAX, 12)\n",
    "kp = mmc.float2uint(kp, mmc.KP_MIN, mmc.KP_MAX, 12)\n",
    "kd = mmc.float2uint(kd, mmc.KD_MIN, mmc.KD_MAX, 12)\n",
    "i_ff = mmc.float2uint(i_ff, -mmc.I_MAX, mmc.I_MAX, 12)\n",
    "\n",
    "d1 = p_des >> 8\n",
    "d2 = p_des&0xFF\n",
    "d3 = v_des>>4\n",
    "d4 = ((v_des&0xF)<<4) | (kp>>8)\n",
    "d5 = kp&0xFF\n",
    "d6 = kd>>4\n",
    "d7 = ((kd&0xF)<<4) | i_ff>>8\n",
    "d8 = i_ff&0xFF\n",
    "\n",
    "data = bytes(bytearray([id, d1, d2, d3, d4, d5, d6, d7, d8]))\n",
    "data\n",
    "\n"
   ]
  },
  {
   "cell_type": "code",
   "execution_count": 128,
   "metadata": {},
   "outputs": [
    {
     "data": {
      "text/plain": [
       "2047"
      ]
     },
     "execution_count": 128,
     "metadata": {},
     "output_type": "execute_result"
    }
   ],
   "source": [
    "i_ff"
   ]
  },
  {
   "cell_type": "code",
   "execution_count": 59,
   "metadata": {},
   "outputs": [
    {
     "data": {
      "text/plain": [
       "b'\\x00\\x00\\xa0@'"
      ]
     },
     "execution_count": 59,
     "metadata": {},
     "output_type": "execute_result"
    }
   ],
   "source": [
    "pack(\"f\", 5)"
   ]
  },
  {
   "cell_type": "code",
   "execution_count": 98,
   "metadata": {},
   "outputs": [
    {
     "name": "stdout",
     "output_type": "stream",
     "text": [
      "1111\n",
      "1111\n"
     ]
    }
   ],
   "source": [
    "a = 0b1111\n",
    "print(\"{0:b}\".format(a))\n",
    "\n",
    "b = 0b01010\n",
    "print(\"{0:b}\".format(b | a))"
   ]
  },
  {
   "cell_type": "code",
   "execution_count": 103,
   "metadata": {},
   "outputs": [
    {
     "data": {
      "text/plain": [
       "'101010111011011'"
      ]
     },
     "execution_count": 103,
     "metadata": {},
     "output_type": "execute_result"
    }
   ],
   "source": [
    "a = 0b01010101\n",
    "b = 0b11011011\n",
    "\n",
    "\"{0:b}\".format(a<<8 | b)"
   ]
  },
  {
   "cell_type": "code",
   "execution_count": null,
   "metadata": {},
   "outputs": [],
   "source": []
  }
 ],
 "metadata": {
  "kernelspec": {
   "display_name": "Python 3.8.10 64-bit",
   "language": "python",
   "name": "python3"
  },
  "language_info": {
   "codemirror_mode": {
    "name": "ipython",
    "version": 3
   },
   "file_extension": ".py",
   "mimetype": "text/x-python",
   "name": "python",
   "nbconvert_exporter": "python",
   "pygments_lexer": "ipython3",
   "version": "3.8.10"
  },
  "orig_nbformat": 4,
  "vscode": {
   "interpreter": {
    "hash": "916dbcbb3f70747c44a77c7bcd40155683ae19c65e1c03b4aa3499c5328201f1"
   }
  }
 },
 "nbformat": 4,
 "nbformat_minor": 2
}
